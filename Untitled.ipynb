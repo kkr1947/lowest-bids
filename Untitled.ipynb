{
 "cells": [
  {
   "cell_type": "code",
   "execution_count": 25,
   "metadata": {},
   "outputs": [],
   "source": [
    "import pandas as pd\n",
    "df = pd.read_csv(\"freedata.csv\")"
   ]
  },
  {
   "cell_type": "code",
   "execution_count": 8,
   "metadata": {},
   "outputs": [],
   "source": [
    "df1 = df[df['status'].str.contains('VERIFIED')==True].copy()\n",
    "# df1 contains only verified elements"
   ]
  },
  {
   "cell_type": "code",
   "execution_count": 12,
   "metadata": {},
   "outputs": [],
   "source": [
    "df2 = df1[df1['time'].str.contains('days')==True].copy()\n",
    "# df1 contains days in day not hours"
   ]
  },
  {
   "cell_type": "code",
   "execution_count": 21,
   "metadata": {},
   "outputs": [],
   "source": [
    "df2['mtime'] = df2['time'].str.split(' ').str.get(0)\n",
    "df2['mbid'] = df2['bid'].str.split(' ').str.get(0)\n",
    "# mtime and mbid refers to modified bid and modified time respectively"
   ]
  },
  {
   "cell_type": "code",
   "execution_count": 20,
   "metadata": {},
   "outputs": [
    {
     "data": {
      "text/plain": [
       "5       3\n",
       "8       3\n",
       "9       3\n",
       "12      3\n",
       "14      3\n",
       "       ..\n",
       "1480    0\n",
       "1482    0\n",
       "1483    0\n",
       "1484    0\n",
       "1490    0\n",
       "Name: bid, Length: 450, dtype: object"
      ]
     },
     "execution_count": 20,
     "metadata": {},
     "output_type": "execute_result"
    }
   ],
   "source": [
    "df2['bid'].str.split(' ').str.get(0)"
   ]
  },
  {
   "cell_type": "code",
   "execution_count": 26,
   "metadata": {},
   "outputs": [],
   "source": [
    "df2.drop(['time','bid'], axis=1, inplace = True)"
   ]
  },
  {
   "cell_type": "code",
   "execution_count": 33,
   "metadata": {},
   "outputs": [],
   "source": [
    "df2['mtime'] = df2['mtime'].astype(str).astype(int) \n",
    "df2['mbid'] = df2['mbid'].astype(str).astype(int) "
   ]
  },
  {
   "cell_type": "code",
   "execution_count": 39,
   "metadata": {},
   "outputs": [],
   "source": [
    "df3 = df2.sort_values(['mbid', 'mtime'], ascending=[1, 1]).copy()"
   ]
  },
  {
   "cell_type": "code",
   "execution_count": 40,
   "metadata": {},
   "outputs": [],
   "source": [
    "df3.reset_index(inplace=True) \n",
    "df3.drop(['index'], axis=1, inplace = True)"
   ]
  },
  {
   "cell_type": "code",
   "execution_count": 67,
   "metadata": {},
   "outputs": [
    {
     "name": "stdout",
     "output_type": "stream",
     "text": [
      "https://www.freelancer.com/projects/website-design/need-help-with-setting-crakrevenue/\n",
      "https://www.freelancer.com/projects/plugin/implementing-coin-system-website/\n",
      "https://www.freelancer.com/projects/javascript/scriptable-widget-script-for-kpi/\n",
      "https://www.freelancer.com/projects/javascript/looking-buy-business-manager-with/\n",
      "https://www.freelancer.com/projects/php/add-chat-capability-website-using/\n",
      "https://www.freelancer.com/projects/buyer-sourcing/need-level-level-gown-with/\n",
      "https://www.freelancer.com/projects/python/tensorrt-implementation/\n",
      "https://www.freelancer.com/projects/software-architecture/need-pega-support-for-months/\n",
      "https://www.freelancer.com/projects/python/rust-python-expert-28323649/\n",
      "https://www.freelancer.com/projects/shopify-site/shopify-expert-need-get-metafields/\n"
     ]
    }
   ],
   "source": [
    "# df3.loc[10,'link']\n",
    "for i in range(10):\n",
    "    print(df3.loc[i+90,'link'])"
   ]
  },
  {
   "cell_type": "code",
   "execution_count": 56,
   "metadata": {},
   "outputs": [
    {
     "data": {
      "text/plain": [
       "job              Setting up an ACT! Premium remote database\n",
       "link      https://www.freelancer.com/projects/database-p...\n",
       "price                                             $10 - $30\n",
       "status                                             VERIFIED\n",
       "mtime                                                     3\n",
       "mbid                                                      0\n",
       "Name: 10, dtype: object"
      ]
     },
     "execution_count": 56,
     "metadata": {},
     "output_type": "execute_result"
    }
   ],
   "source": [
    "df3.loc[10]"
   ]
  },
  {
   "cell_type": "code",
   "execution_count": null,
   "metadata": {},
   "outputs": [],
   "source": []
  }
 ],
 "metadata": {
  "kernelspec": {
   "display_name": "Python 3.8.2 64-bit",
   "language": "python",
   "name": "python38264bitcae5463d07074e38a2921c9d68af043e"
  },
  "language_info": {
   "codemirror_mode": {
    "name": "ipython",
    "version": 3
   },
   "file_extension": ".py",
   "mimetype": "text/x-python",
   "name": "python",
   "nbconvert_exporter": "python",
   "pygments_lexer": "ipython3",
   "version": "3.8.5"
  }
 },
 "nbformat": 4,
 "nbformat_minor": 4
}
